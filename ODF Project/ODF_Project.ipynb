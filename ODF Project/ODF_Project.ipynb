{
 "cells": [
  {
   "cell_type": "markdown",
   "metadata": {},
   "source": [
    "# Oregon Department of Forestry Wildfire Occurances, 2000 - 2022"
   ]
  },
  {
   "cell_type": "code",
   "execution_count": 2,
   "metadata": {},
   "outputs": [],
   "source": [
    "import pandas as pd\n",
    "import seaborn as sns\n",
    "import numpy as np\n",
    "import matplotlib.pyplot as plt"
   ]
  },
  {
   "cell_type": "code",
   "execution_count": 4,
   "metadata": {},
   "outputs": [],
   "source": [
    "odf_df = pd.read_csv('/Users/shirleyaraizasantaella/Documents/UMich/Grad School Year 2/Semester_2/SI_507_IntermediateProgramming/SI-607/ODF Project/ODF_Fire_Occurrence_Data_2000-2022_20240323.csv')"
   ]
  },
  {
   "cell_type": "code",
   "execution_count": 5,
   "metadata": {},
   "outputs": [
    {
     "data": {
      "text/html": [
       "<div>\n",
       "<style scoped>\n",
       "    .dataframe tbody tr th:only-of-type {\n",
       "        vertical-align: middle;\n",
       "    }\n",
       "\n",
       "    .dataframe tbody tr th {\n",
       "        vertical-align: top;\n",
       "    }\n",
       "\n",
       "    .dataframe thead th {\n",
       "        text-align: right;\n",
       "    }\n",
       "</style>\n",
       "<table border=\"1\" class=\"dataframe\">\n",
       "  <thead>\n",
       "    <tr style=\"text-align: right;\">\n",
       "      <th></th>\n",
       "      <th>Serial</th>\n",
       "      <th>FireCategory</th>\n",
       "      <th>FireYear</th>\n",
       "      <th>Area</th>\n",
       "      <th>DistrictName</th>\n",
       "      <th>UnitName</th>\n",
       "      <th>FullFireNumber</th>\n",
       "      <th>FireName</th>\n",
       "      <th>Size_class</th>\n",
       "      <th>EstTotalAcres</th>\n",
       "      <th>...</th>\n",
       "      <th>Industrial_Restriction</th>\n",
       "      <th>Ign_DateTime</th>\n",
       "      <th>ReportDateTime</th>\n",
       "      <th>Discover_DateTime</th>\n",
       "      <th>Control_DateTime</th>\n",
       "      <th>CreationDate</th>\n",
       "      <th>ModifiedDate</th>\n",
       "      <th>DistrictCode</th>\n",
       "      <th>UnitCode</th>\n",
       "      <th>DistFireNumber</th>\n",
       "    </tr>\n",
       "  </thead>\n",
       "  <tbody>\n",
       "    <tr>\n",
       "      <th>0</th>\n",
       "      <td>58256</td>\n",
       "      <td>STAT</td>\n",
       "      <td>2000</td>\n",
       "      <td>EOA</td>\n",
       "      <td>Central Oregon</td>\n",
       "      <td>John Day</td>\n",
       "      <td>00-952011-01</td>\n",
       "      <td>Slick Ear #2</td>\n",
       "      <td>B</td>\n",
       "      <td>0.75</td>\n",
       "      <td>...</td>\n",
       "      <td>Does Not Apply - Eastern OR</td>\n",
       "      <td>07/18/2000 07:00:00 PM</td>\n",
       "      <td>07/19/2000 01:20:00 PM</td>\n",
       "      <td>07/19/2000 01:15:00 PM</td>\n",
       "      <td>07/20/2000 12:50:00 AM</td>\n",
       "      <td>07/20/2000 09:13:00 AM</td>\n",
       "      <td>11/14/2000 09:16:00 AM</td>\n",
       "      <td>95</td>\n",
       "      <td>952</td>\n",
       "      <td>011</td>\n",
       "    </tr>\n",
       "    <tr>\n",
       "      <th>1</th>\n",
       "      <td>59312</td>\n",
       "      <td>STAT</td>\n",
       "      <td>2000</td>\n",
       "      <td>EOA</td>\n",
       "      <td>Northeast Oregon</td>\n",
       "      <td>La Grande</td>\n",
       "      <td>00-971024-01</td>\n",
       "      <td>Woodley</td>\n",
       "      <td>C</td>\n",
       "      <td>80.00</td>\n",
       "      <td>...</td>\n",
       "      <td>Does Not Apply - Eastern OR</td>\n",
       "      <td>08/24/2000 05:30:00 AM</td>\n",
       "      <td>08/24/2000 01:07:00 PM</td>\n",
       "      <td>08/24/2000 01:07:00 PM</td>\n",
       "      <td>09/01/2000 09:30:00 PM</td>\n",
       "      <td>08/29/2000 03:59:00 PM</td>\n",
       "      <td>12/21/2000 04:22:00 PM</td>\n",
       "      <td>97</td>\n",
       "      <td>971</td>\n",
       "      <td>024</td>\n",
       "    </tr>\n",
       "    <tr>\n",
       "      <th>2</th>\n",
       "      <td>61657</td>\n",
       "      <td>STAT</td>\n",
       "      <td>2001</td>\n",
       "      <td>SOA</td>\n",
       "      <td>Southwest Oregon</td>\n",
       "      <td>Grants Pass</td>\n",
       "      <td>01-712133-02</td>\n",
       "      <td>QUEENS BRANCH</td>\n",
       "      <td>A</td>\n",
       "      <td>0.10</td>\n",
       "      <td>...</td>\n",
       "      <td>Lvl 3 Restricted Shutdown</td>\n",
       "      <td>08/10/2001 05:40:00 PM</td>\n",
       "      <td>08/10/2001 05:47:00 PM</td>\n",
       "      <td>08/10/2001 05:45:00 PM</td>\n",
       "      <td>08/10/2001 06:30:00 PM</td>\n",
       "      <td>08/10/2001 06:42:00 PM</td>\n",
       "      <td>08/17/2001 11:45:00 AM</td>\n",
       "      <td>71</td>\n",
       "      <td>712</td>\n",
       "      <td>133</td>\n",
       "    </tr>\n",
       "    <tr>\n",
       "      <th>3</th>\n",
       "      <td>63735</td>\n",
       "      <td>STAT</td>\n",
       "      <td>2002</td>\n",
       "      <td>NOA</td>\n",
       "      <td>West Oregon</td>\n",
       "      <td>Philomath</td>\n",
       "      <td>02-551001-03</td>\n",
       "      <td>WREN</td>\n",
       "      <td>A</td>\n",
       "      <td>0.01</td>\n",
       "      <td>...</td>\n",
       "      <td>Lvl 1 Fire Season Only</td>\n",
       "      <td>07/06/2002 01:01:00 PM</td>\n",
       "      <td>07/06/2002 01:04:00 PM</td>\n",
       "      <td>07/06/2002 01:02:00 PM</td>\n",
       "      <td>07/06/2002 01:07:00 PM</td>\n",
       "      <td>07/07/2002 09:16:00 AM</td>\n",
       "      <td>07/28/2002 10:08:00 AM</td>\n",
       "      <td>55</td>\n",
       "      <td>551</td>\n",
       "      <td>001</td>\n",
       "    </tr>\n",
       "    <tr>\n",
       "      <th>4</th>\n",
       "      <td>68019</td>\n",
       "      <td>STAT</td>\n",
       "      <td>2003</td>\n",
       "      <td>NOA</td>\n",
       "      <td>West Oregon</td>\n",
       "      <td>Dallas</td>\n",
       "      <td>03-552013-04</td>\n",
       "      <td>Ritner Creek</td>\n",
       "      <td>A</td>\n",
       "      <td>0.01</td>\n",
       "      <td>...</td>\n",
       "      <td>Lvl 3 Restricted Shutdown</td>\n",
       "      <td>08/22/2003 04:00:00 AM</td>\n",
       "      <td>08/22/2003 05:00:00 AM</td>\n",
       "      <td>08/22/2003 05:00:00 AM</td>\n",
       "      <td>08/22/2003 09:30:00 AM</td>\n",
       "      <td>08/22/2003 04:12:00 PM</td>\n",
       "      <td>09/04/2003 09:39:00 AM</td>\n",
       "      <td>55</td>\n",
       "      <td>552</td>\n",
       "      <td>013</td>\n",
       "    </tr>\n",
       "  </tbody>\n",
       "</table>\n",
       "<p>5 rows × 38 columns</p>\n",
       "</div>"
      ],
      "text/plain": [
       "   Serial FireCategory  FireYear Area      DistrictName     UnitName  \\\n",
       "0   58256         STAT      2000  EOA    Central Oregon     John Day   \n",
       "1   59312         STAT      2000  EOA  Northeast Oregon    La Grande   \n",
       "2   61657         STAT      2001  SOA  Southwest Oregon  Grants Pass   \n",
       "3   63735         STAT      2002  NOA       West Oregon    Philomath   \n",
       "4   68019         STAT      2003  NOA       West Oregon       Dallas   \n",
       "\n",
       "  FullFireNumber       FireName Size_class  EstTotalAcres  ...  \\\n",
       "0   00-952011-01   Slick Ear #2          B           0.75  ...   \n",
       "1   00-971024-01        Woodley          C          80.00  ...   \n",
       "2   01-712133-02  QUEENS BRANCH          A           0.10  ...   \n",
       "3   02-551001-03           WREN          A           0.01  ...   \n",
       "4   03-552013-04   Ritner Creek          A           0.01  ...   \n",
       "\n",
       "        Industrial_Restriction            Ign_DateTime  \\\n",
       "0  Does Not Apply - Eastern OR  07/18/2000 07:00:00 PM   \n",
       "1  Does Not Apply - Eastern OR  08/24/2000 05:30:00 AM   \n",
       "2    Lvl 3 Restricted Shutdown  08/10/2001 05:40:00 PM   \n",
       "3       Lvl 1 Fire Season Only  07/06/2002 01:01:00 PM   \n",
       "4    Lvl 3 Restricted Shutdown  08/22/2003 04:00:00 AM   \n",
       "\n",
       "           ReportDateTime       Discover_DateTime        Control_DateTime  \\\n",
       "0  07/19/2000 01:20:00 PM  07/19/2000 01:15:00 PM  07/20/2000 12:50:00 AM   \n",
       "1  08/24/2000 01:07:00 PM  08/24/2000 01:07:00 PM  09/01/2000 09:30:00 PM   \n",
       "2  08/10/2001 05:47:00 PM  08/10/2001 05:45:00 PM  08/10/2001 06:30:00 PM   \n",
       "3  07/06/2002 01:04:00 PM  07/06/2002 01:02:00 PM  07/06/2002 01:07:00 PM   \n",
       "4  08/22/2003 05:00:00 AM  08/22/2003 05:00:00 AM  08/22/2003 09:30:00 AM   \n",
       "\n",
       "             CreationDate            ModifiedDate  DistrictCode UnitCode  \\\n",
       "0  07/20/2000 09:13:00 AM  11/14/2000 09:16:00 AM            95      952   \n",
       "1  08/29/2000 03:59:00 PM  12/21/2000 04:22:00 PM            97      971   \n",
       "2  08/10/2001 06:42:00 PM  08/17/2001 11:45:00 AM            71      712   \n",
       "3  07/07/2002 09:16:00 AM  07/28/2002 10:08:00 AM            55      551   \n",
       "4  08/22/2003 04:12:00 PM  09/04/2003 09:39:00 AM            55      552   \n",
       "\n",
       "  DistFireNumber  \n",
       "0            011  \n",
       "1            024  \n",
       "2            133  \n",
       "3            001  \n",
       "4            013  \n",
       "\n",
       "[5 rows x 38 columns]"
      ]
     },
     "execution_count": 5,
     "metadata": {},
     "output_type": "execute_result"
    }
   ],
   "source": [
    "odf_df.head(5)"
   ]
  },
  {
   "cell_type": "code",
   "execution_count": 6,
   "metadata": {},
   "outputs": [
    {
     "data": {
      "text/plain": [
       "Index(['Serial', 'FireCategory', 'FireYear', 'Area', 'DistrictName',\n",
       "       'UnitName', 'FullFireNumber', 'FireName', 'Size_class', 'EstTotalAcres',\n",
       "       'Protected_Acres', 'HumanOrLightning', 'CauseBy', 'GeneralCause',\n",
       "       'SpecificCause', 'Cause_Comments', 'Lat_DD', 'Long_DD', 'LatLongDD',\n",
       "       'FO_LandOwnType', 'Twn', 'Rng', 'Sec', 'Subdiv', 'LandmarkLocation',\n",
       "       'County', 'RegUseZone', 'RegUseRestriction', 'Industrial_Restriction',\n",
       "       'Ign_DateTime', 'ReportDateTime', 'Discover_DateTime',\n",
       "       'Control_DateTime', 'CreationDate', 'ModifiedDate', 'DistrictCode',\n",
       "       'UnitCode', 'DistFireNumber'],\n",
       "      dtype='object')"
      ]
     },
     "execution_count": 6,
     "metadata": {},
     "output_type": "execute_result"
    }
   ],
   "source": [
    "odf_df.columns"
   ]
  },
  {
   "cell_type": "code",
   "execution_count": 8,
   "metadata": {},
   "outputs": [
    {
     "data": {
      "text/plain": [
       "array(['Lightning', 'Smoking', 'Recreation', 'Debris Burning',\n",
       "       'Equipment Use', 'Miscellaneous', 'Arson', 'Under Invest',\n",
       "       'Juveniles', 'Railroad'], dtype=object)"
      ]
     },
     "execution_count": 8,
     "metadata": {},
     "output_type": "execute_result"
    }
   ],
   "source": [
    "odf_df['GeneralCause'].unique()"
   ]
  },
  {
   "cell_type": "code",
   "execution_count": 13,
   "metadata": {},
   "outputs": [
    {
     "data": {
      "text/plain": [
       "array(['Lightning', 'Other - Smoker Related', 'Fireworks',\n",
       "       'Other - Burning Related', 'Powerlines - prior to 2017',\n",
       "       'Other - Miscellaneous Related', 'Hot Ashes (Dumping of)',\n",
       "       'Warming Fire', 'Carbon Sparks from Vehicle',\n",
       "       'Burning Vehicle or Equipment', 'Rubbish Disposal',\n",
       "       'Other - Arson Related', 'Discarded Cigarette/Tobacco', nan,\n",
       "       'Firearms - General', 'Other - Recreationist Related',\n",
       "       'Unattended', 'Campfire Not Extinguished', 'Inadequate Mop Up',\n",
       "       'Inadequate Resources to Control',\n",
       "       'Other -Equipment Use Related (ie. road const., other i.c.e.)',\n",
       "       'Industrial- Rotary Saw - Sparks or Friction',\n",
       "       'Warming Fire Not Extinguished', 'Burning Building',\n",
       "       'Sparks from Farm Machinery', 'Inadequate clearing',\n",
       "       'Industrial- Cable System', 'Burning During Poor Condition',\n",
       "       'Cutting, Welding, or Grinding',\n",
       "       'Playing With Fire (Juveniles 12 years and under)',\n",
       "       'Landowner Electrical Service',\n",
       "       'Industrial- Exhaust or Spark - Truck',\n",
       "       'Industrial- Slash-Holdover Prev. Burn(>90 days after ign.)',\n",
       "       'Electric Fence', 'Using Fireworks (Juveniles 12 years and under)',\n",
       "       'Caused due to Emotional Dysfunction/Distress',\n",
       "       'Smoker Dropped Burning Match',\n",
       "       'Industrial- Slash-Other Slash Disposal After Burn',\n",
       "       'Industrial- Slash-Improper Ignition Sequence',\n",
       "       'Heat from Vehicle Manifold or Exhaust',\n",
       "       'Industrial- Slash-Failure to Adequately Mop Up',\n",
       "       'Burning Prohibited Material (rubber, plastic, etc.See Manual',\n",
       "       'Warming Fire Unattended', 'Failure to Follow Permit Instruction',\n",
       "       'Industrial- Slash-Other Slash Disposal Fires During Burn',\n",
       "       'Malfunction of Camp Appliance Fuel (Lantern,etc)',\n",
       "       'Industrial- Slash-Failure to Adequately Patrol',\n",
       "       'Industrial- Electrical Wiring on Equipment',\n",
       "       'Industrial- Welding, Cutting, or Grinding',\n",
       "       'Spontaneous Combustion', 'Using Fireworks (Juv. ages 13 to 17)',\n",
       "       'Industrial- Power Saw', 'Burn Barrel',\n",
       "       'Industrial- Rigging - Sparks or Friction',\n",
       "       'Fire to Cover-up/Distract from Criminal Act',\n",
       "       'Track Maintenance (Welding & Grinding)',\n",
       "       'Other (Juveniles 12 years and under)',\n",
       "       'Industrial- Slash-Failure to Recog. Sev. of Burning Cond.',\n",
       "       'Fire to Cause Damage/Injury to Public Agency',\n",
       "       'Criminal Mischief (Juveniles 12 and under)',\n",
       "       'Industrial- Other - Logging Equipment Use',\n",
       "       'Other - Railroad Related',\n",
       "       'Playing With Fire (Juveniles ages 13 to 17)',\n",
       "       'Other (Juveniles ages 13 to 17)',\n",
       "       'Campfire Left Unattended (camp site, cooking)',\n",
       "       'Industrial- Slash-Fire Line Not Adq. (Inc. Foam Burn Line)',\n",
       "       'Criminal Mischief (Juv. ages 13 to 17)',\n",
       "       'Industrial- Exhaust or Spark - Tractor', 'Insect & Pest Control',\n",
       "       'Industrial- Slash-Insufficient Manpower & Equipment',\n",
       "       'Engine Exhaust', 'Power Saw (Not in Forest Operation)', 'Hot Box',\n",
       "       'Industrial- Slash-Failure to Follow Burn Permit Instructions',\n",
       "       'Industrial- Slash-Failure to Construct Adequate Fire Break',\n",
       "       'Reckless Burning (13 to 17)', 'Brakeshoe', 'Explosive Device',\n",
       "       'Smoking (Juveniles 12 years and under)',\n",
       "       'Industrial- Exhaust or Spark - Mobile Loader',\n",
       "       'Ignition of Appliance Fuel',\n",
       "       'Fire to Cause Damage/Injury to Person',\n",
       "       'Reckless Burning (Juv. 12 and under)',\n",
       "       'Smoking (Juveniles ages 13 to 17)', 'Warming Fire - Industrial',\n",
       "       'Industrial- Blasting', 'Fire for Profit or Opportunity',\n",
       "       'Smoke chase thought to be lightning', 'Creation of Hunting Area',\n",
       "       'Aircraft', 'Flares', 'Right-of-way Clearing', 'Emptied Ash Tray',\n",
       "       'Willfull (Juveniles 12 and under)', 'Sparks from House Chimney',\n",
       "       'Other non-fire summaries',\n",
       "       'Industrial- Exhaust of Spark - Stationary Engine',\n",
       "       'Debris Burning (Ties, Bridge Material, etc.)',\n",
       "       'Firearms - Ammunition', 'Charcoal use or disposal',\n",
       "       'Powerlines - Power pole malfunction (transformer, fuse, etc.',\n",
       "       'Powerlines - Tree/branch outside right of way',\n",
       "       'Powerlines - Animal', 'Powerlines - Other',\n",
       "       'Powerlines - Tree/branch within right of way',\n",
       "       'Powerlines - Weather', 'Mowing - Residential',\n",
       "       'Mowing - Roadside', 'Agricultural', 'Agriculture',\n",
       "       'Powerlines - Vehicle into power lines',\n",
       "       'Powerlines - Vehicle into power pole', 'Mowing - Agriculture',\n",
       "       'Firearms - Target', 'Industrial- Log Friction While Yarding',\n",
       "       'Blasting', 'Worker Smoking', 'Willfull (Juv. ages 13 to 17)'],\n",
       "      dtype=object)"
      ]
     },
     "execution_count": 13,
     "metadata": {},
     "output_type": "execute_result"
    }
   ],
   "source": [
    "odf_df['SpecificCause'].unique()"
   ]
  },
  {
   "cell_type": "code",
   "execution_count": 12,
   "metadata": {},
   "outputs": [
    {
     "data": {
      "text/plain": [
       "array(['Grant', 'Union', 'Jackson', 'Benton', 'Polk', 'Wallowa',\n",
       "       'Klamath', 'Clatsop', 'Douglas', 'Josephine', 'Lane', 'Linn',\n",
       "       'Columbia', 'Deschutes', 'Clackamas', 'Lake', 'Coos', 'Washington',\n",
       "       'Wheeler', 'Marion', 'Yamhill', 'Baker', 'Umatilla', 'Tillamook',\n",
       "       'Crook', 'Jefferson', 'Multnomah', 'Curry', 'Lincoln', 'Morrow',\n",
       "       'Hood River', 'Wasco', 'Harney', 'Malheur', 'Gilliam',\n",
       "       'Other State', 'ERROR: #N/A'], dtype=object)"
      ]
     },
     "execution_count": 12,
     "metadata": {},
     "output_type": "execute_result"
    }
   ],
   "source": [
    "odf_df['County'].unique()"
   ]
  },
  {
   "cell_type": "code",
   "execution_count": 15,
   "metadata": {},
   "outputs": [
    {
     "data": {
      "text/plain": [
       "array(['Central Oregon', 'Northeast Oregon', 'Southwest Oregon',\n",
       "       'West Oregon', 'Walker Range - WRFPA', 'Astoria', 'Klamath-Lake',\n",
       "       'Douglas - DFPA', 'South Cascade', 'Forest Grove', 'North Cascade',\n",
       "       'Coos - CFPA', 'Western Lane', 'Tillamook'], dtype=object)"
      ]
     },
     "execution_count": 15,
     "metadata": {},
     "output_type": "execute_result"
    }
   ],
   "source": [
    "odf_df['DistrictName'].unique()"
   ]
  },
  {
   "cell_type": "code",
   "execution_count": null,
   "metadata": {},
   "outputs": [],
   "source": [
    "odf_df['FireName']"
   ]
  }
 ],
 "metadata": {
  "kernelspec": {
   "display_name": "Python 3",
   "language": "python",
   "name": "python3"
  },
  "language_info": {
   "codemirror_mode": {
    "name": "ipython",
    "version": 3
   },
   "file_extension": ".py",
   "mimetype": "text/x-python",
   "name": "python",
   "nbconvert_exporter": "python",
   "pygments_lexer": "ipython3",
   "version": "3.11.4"
  }
 },
 "nbformat": 4,
 "nbformat_minor": 2
}
