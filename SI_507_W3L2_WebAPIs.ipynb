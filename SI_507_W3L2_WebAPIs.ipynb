{
  "cells": [
    {
      "cell_type": "markdown",
      "metadata": {
        "colab_type": "text",
        "id": "DSjgBXcGco4O"
      },
      "source": [
        "# **Working with Web APIs**\n",
        "\n",
        "Today's learning objective is that you'll be able to answer the following 4 questions\n",
        "*  How does the Web work?\n",
        "\n",
        "*  What are Web APIs and how do we access them?\n",
        "\n",
        "*  How do we access the Web and Web APIs in Python?\n",
        "\n",
        "* What is JSON\n",
        "\n",
        "At the end of the lesson I recommend you come back to this section and enter your answers!\n"
      ]
    },
    {
      "cell_type": "markdown",
      "metadata": {
        "colab_type": "text",
        "id": "vApBVa1VhFAd"
      },
      "source": [
        "## The operating procedure for the web\n",
        "\n",
        "\n",
        "1.   You enter a URL into a web browser\n",
        "2.   The browser looks up the IP address for the domain name via DNS\n",
        "   \n",
        "   *  You can think of DNS (Domain Name System) as the phone book of the internet\n",
        "3.   The browser sends a HTTP request to the server \n",
        "   *  The server is the computer that hosts the website\n",
        "4.  The server sends back a HTTP *response*\n",
        "5.  The browser begins rendering the HTML \n",
        "6.  The browser sends requests for additional objects embedded in HTML (images, css, JavaScript) and repeats steps 3-5.\n",
        "7.  Once the page is loaded, the browser sends further asynchronous requests as needed."
      ]
    },
    {
      "cell_type": "markdown",
      "metadata": {
        "colab_type": "text",
        "id": "sqJ5USoahJrQ"
      },
      "source": [
        "**HTTP**\n",
        "![picture](https://drive.google.com/uc?export=view&id=1tHKCW_tXeZXFbeve6UfsWHwJBFuJB2iV)\n",
        "\n",
        "source: https://doepud.co.uk/blog/anatomy-of-a-url\n",
        "\n",
        "\n",
        "\n",
        "*   **Protocol:** specifies which protocol to run \n",
        "*   **Subdomain & domain name:** the server name\n",
        "*   **Port:** a point of entry on a server\n",
        "*   **Path:** the path to a specific resource (file/page) you wish to access\n",
        "*   **Query & Parameters:** Data passed to the server in a specified structure\n",
        "*   **Fragment:** Anchors for specific portions of a webpage\n",
        "\n",
        "For Web APIs the important distinction is:\n",
        "*   **Endpoint:** everythign up to the query-string\n",
        "*   **Query String**\n",
        "\n"
      ]
    },
    {
      "cell_type": "markdown",
      "metadata": {
        "colab_type": "text",
        "id": "5JqIVh6ukJKm"
      },
      "source": [
        "## **Web APIs**\n",
        "\n",
        "**A**pplication **P**rogramming **I**nterface (API)\n",
        "\n",
        "- a contract between two programs (or parts of a prgogram).\n",
        "\n",
        "- In python you can think of *classes* as an interface\n",
        "   *  for example the `Buildings` class that had the `MaximumOccupancy()` method is a contract or promise about how any object within that class will operate.\n",
        "   *  `datetime.datetime.now()` returns the current date and time in python - that is an interface to the `datetime` package\n",
        "\n",
        "\n",
        "**The concept of an API is simply a collection of interfaces to some larger functionality that can be used by *applications***\n",
        "\n",
        "For data scientists - Web APIs are gateways to lots of data\n",
        "\n"
      ]
    },
    {
      "cell_type": "markdown",
      "metadata": {
        "colab_type": "text",
        "id": "tlG1SBkvvPYV"
      },
      "source": [
        "## **Accessing Web APIs**\n",
        "\n",
        "First lets try accessing the Datamuse API: www.datamuse.com/api \n",
        "\n",
        "Go ahead and navigate their in your broswer. The landing page should have the following banner on top:\n",
        "\n",
        "![picture](https://drive.google.com/uc?export=view&id=1NfUcz2IWtrTtUQTgWlWOu1RJZXLik4vZ)\n",
        "\n",
        "If you scroll down there are examples of how to use the API\n",
        "\n",
        "![picture](https://drive.google.com/uc?export=view&id=1g7U_xdUvpKUk9u3ipJ-DKDkoL-a-81RI)\n",
        "\n",
        "Do you notice a pattern in the structure of the query parameters?  If you scroll further down the rules are explained\n",
        "\n",
        "![picture](https://drive.google.com/uc?export=view&id=1HS8eP_Ts3Vx47U_W2DgmAQEDcCkDq-yF)"
      ]
    },
    {
      "cell_type": "markdown",
      "metadata": {
        "colab_type": "text",
        "id": "SMKkPdPPygSn"
      },
      "source": [
        "**Strucutre of a Query**\n",
        "***Endpoint*:** http://api.datamuse.com/words\n",
        "\n",
        "***Query String*:** ?rel_rhy=blue \n",
        "\n",
        "Navigate their in your browser\n",
        "http://api.datamuse.com/words?rel_rhy=blue\n",
        "\n",
        "![picture](https://drive.google.com/uc?export=view&id=117i8K6v7u2sLhSVB7nl4KxMxk_FPoWpc)\n",
        "\n",
        "This is **JavaScript Object Notation** or **JSON**\n",
        "\n",
        "  *  looks like a dictionary but is actually a string\n",
        "  *  text-based language for sending structured data (objects) between programs\n",
        "\n",
        "Copy the output of your query into http://JSONLint.com and click validate JSON\n",
        "\n",
        "the output is clearly structured\n",
        "\n",
        "![picture](https://drive.google.com/uc?export=view&id=1fi-SdDnw43R_s5wqFBoMv5wnssMO0EXa)\n",
        "\n"
      ]
    },
    {
      "cell_type": "markdown",
      "metadata": {
        "colab_type": "text",
        "id": "t0xIkq5Z3Jk9"
      },
      "source": [
        "## **Accessing the Web with Python**\n",
        "\n",
        "We will do this using the python library `requests`\n",
        "\n",
        "In your computer you will need to install the library `requests` either through `pip install requests` or `pip3 install requests` \n",
        "\n",
        "You only have to install once. After that you must `import requests` every time you use it.\n",
        "\n",
        "`requests` is very easy to use.\n",
        "*  simply call `requests.get()` with a url you want to get. \n",
        "\n",
        "*  this will work with both API endpoints and regular websites."
      ]
    },
    {
      "cell_type": "code",
      "execution_count": 1,
      "metadata": {
        "colab": {},
        "colab_type": "code",
        "id": "lQJcNeurcoEH"
      },
      "outputs": [],
      "source": [
        "import requests\n",
        "\n",
        "response = requests.get(\"http://datamuse.com\")\n",
        "\n",
        "print(response.text)  "
      ]
    },
    {
      "cell_type": "markdown",
      "metadata": {
        "colab_type": "text",
        "id": "vbLA6F2R52Wf"
      },
      "source": [
        "Because it is not an API if we run the code above we get the html of the landing page.  You can check that its correct by comparing the output to what you get if you vew source code for that URL in your browser.\n",
        "\n",
        "**Note** that `requests.get()` pulls everything from the url, so the object `response` has many thigns you don't need. \n",
        "*  `response.text` provides the *response body*\n",
        "*  `response.status_code` provides the HTTP status code returned by the server\n",
        "   * compare the `response.status_code` you get for http://datamuse.com with what you get for http://datamuse.com/totallyfakeURL/"
      ]
    },
    {
      "cell_type": "code",
      "execution_count": null,
      "metadata": {
        "colab": {},
        "colab_type": "code",
        "id": "7PlKC7IDX3ap"
      },
      "outputs": [],
      "source": [
        "import requests\n",
        "\n",
        "response1 = requests.get(\"http://datamuse.com/\")\n",
        "response2 = requests.get(\"http://datamuse.com/totallyfakeURL/\")\n",
        "\n",
        "print(response1.status_code)\n",
        "print(response2.status_code)"
      ]
    },
    {
      "cell_type": "markdown",
      "metadata": {
        "colab_type": "text",
        "id": "QbUh5o9V7fKW"
      },
      "source": [
        "**Accessing Web API with requests**\n",
        "\n",
        "Just as above we can use an actual WebAPI endpoint and query string with the `requests.get()` code as below"
      ]
    },
    {
      "cell_type": "code",
      "execution_count": null,
      "metadata": {
        "colab": {},
        "colab_type": "code",
        "id": "lZZtr2Zo7enQ"
      },
      "outputs": [],
      "source": [
        "\n",
        "import requests\n",
        "\n",
        "response = requests.get(\"http://api.datamuse.com/words?rel_rhy=blue\")\n",
        "print(response.text)"
      ]
    },
    {
      "cell_type": "markdown",
      "metadata": {
        "colab_type": "text",
        "id": "C-lIT_xl8GyA"
      },
      "source": [
        "This can also be shortened using the following structure"
      ]
    },
    {
      "cell_type": "code",
      "execution_count": null,
      "metadata": {
        "colab": {},
        "colab_type": "code",
        "id": "qW5Oqmh06e-t"
      },
      "outputs": [],
      "source": [
        "baseurl = \"https://api.datamuse.com/words\"\n",
        "parameter_dictionary = {'rel_rhy':'blue'}\n",
        "response = requests.get(baseurl, parameter_dictionary)\n",
        "print(response.text)"
      ]
    }
  ],
  "metadata": {
    "colab": {
      "name": "SI_507_W4L2_WebAPIs.ipynb",
      "private_outputs": true,
      "provenance": []
    },
    "kernelspec": {
      "display_name": "Python 3",
      "name": "python3"
    },
    "language_info": {
      "codemirror_mode": {
        "name": "ipython",
        "version": 3
      },
      "file_extension": ".py",
      "mimetype": "text/x-python",
      "name": "python",
      "nbconvert_exporter": "python",
      "pygments_lexer": "ipython3",
      "version": "3.11.4"
    }
  },
  "nbformat": 4,
  "nbformat_minor": 0
}
